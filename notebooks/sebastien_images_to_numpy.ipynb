{
 "cells": [
  {
   "cell_type": "code",
   "execution_count": 4,
   "metadata": {},
   "outputs": [
    {
     "name": "stdout",
     "output_type": "stream",
     "text": [
      "/Users/svinchon/code/NMenacho/To-infinity-and-beyond/notebooks\n"
     ]
    },
    {
     "name": "stdout",
     "output_type": "stream",
     "text": [
      "CNN_model_first_essay.ipynb      nicolas_api_scrapping.ipynb\n",
      "natalia_Scrapping stars.ipynb    \u001b[1m\u001b[36mold\u001b[m\u001b[m\n",
      "natalia_get-cropped-images.ipynb sebastien_images_to_numpy.ipynb\n"
     ]
    }
   ],
   "source": [
    "!pwd\n",
    "!ls"
   ]
  },
  {
   "cell_type": "code",
   "execution_count": 6,
   "metadata": {},
   "outputs": [
    {
     "name": "stdout",
     "output_type": "stream",
     "text": [
      "(128, 128, 3)\n"
     ]
    }
   ],
   "source": [
    "from PIL import Image\n",
    "import numpy as np\n",
    "\n",
    "image_name = \"../data/images_cropped_sample/1237651538722554076_233.547039421357_57.8613990707295_GALAXY_0.3526742.jpg\"\n",
    "#image_name = \"test.jpeg\"\n",
    "img= Image.open(image_name)\n",
    "np_img = np.array(img)\n",
    "\n",
    "print(np_img.shape)"
   ]
  },
  {
   "cell_type": "code",
   "execution_count": 14,
   "metadata": {},
   "outputs": [
    {
     "data": {
      "text/plain": [
       "array([[[4, 3, 1],\n",
       "        [4, 3, 1],\n",
       "        [4, 3, 1],\n",
       "        ...,\n",
       "        [1, 1, 1],\n",
       "        [1, 1, 1],\n",
       "        [1, 1, 1]],\n",
       "\n",
       "       [[4, 3, 1],\n",
       "        [4, 3, 1],\n",
       "        [4, 3, 1],\n",
       "        ...,\n",
       "        [1, 1, 1],\n",
       "        [1, 1, 1],\n",
       "        [1, 1, 1]],\n",
       "\n",
       "       [[4, 3, 1],\n",
       "        [4, 3, 1],\n",
       "        [4, 3, 1],\n",
       "        ...,\n",
       "        [1, 1, 1],\n",
       "        [1, 1, 1],\n",
       "        [1, 1, 1]],\n",
       "\n",
       "       ...,\n",
       "\n",
       "       [[5, 5, 5],\n",
       "        [5, 5, 5],\n",
       "        [5, 5, 5],\n",
       "        ...,\n",
       "        [2, 2, 0],\n",
       "        [2, 2, 0],\n",
       "        [1, 1, 0]],\n",
       "\n",
       "       [[4, 4, 4],\n",
       "        [4, 4, 4],\n",
       "        [4, 4, 4],\n",
       "        ...,\n",
       "        [2, 2, 0],\n",
       "        [1, 1, 0],\n",
       "        [1, 1, 0]],\n",
       "\n",
       "       [[4, 4, 4],\n",
       "        [4, 4, 4],\n",
       "        [3, 3, 3],\n",
       "        ...,\n",
       "        [1, 1, 0],\n",
       "        [1, 1, 0],\n",
       "        [1, 1, 0]]], dtype=uint8)"
      ]
     },
     "execution_count": 14,
     "metadata": {},
     "output_type": "execute_result"
    }
   ],
   "source": [
    "import os\n",
    "\n",
    "from os import listdir\n",
    "from os.path import isfile, join\n",
    "\n",
    "image_dir = \"../data/images_cropped_sample\"\n",
    "\n",
    "image_files = [f for f in listdir(image_dir) if isfile(join(image_dir, f))]\n",
    "\n",
    "X = []\n",
    "\n",
    "for image_file in image_files:\n",
    "    image_info = image_file.replace('.jpg', '').split(\"_\")\n",
    "    image_data = np.array(Image.open(os.path.join(image_dir,image_file)))\n",
    "    #print(image_info)\n",
    "    #print(image_data.shape)\n",
    "    X.append(image_data)\n",
    "\n",
    "X[0]"
   ]
  },
  {
   "cell_type": "code",
   "execution_count": null,
   "metadata": {},
   "outputs": [],
   "source": [
    "plt.figure(figsize=(10, 10))\n",
    "for images, labels in train_ds.take(1):\n",
    "  for i in range(9):\n",
    "    ax = plt.subplot(3, 3, i + 1)\n",
    "    plt.imshow(images[i].numpy().astype(\"uint8\"))\n",
    "    plt.title(class_names[labels[i]])\n",
    "    plt.axis(\"off\")"
   ]
  }
 ],
 "metadata": {
  "kernelspec": {
   "display_name": "Python 3",
   "language": "python",
   "name": "python3"
  },
  "language_info": {
   "codemirror_mode": {
    "name": "ipython",
    "version": 3
   },
   "file_extension": ".py",
   "mimetype": "text/x-python",
   "name": "python",
   "nbconvert_exporter": "python",
   "pygments_lexer": "ipython3",
   "version": "3.10.6"
  }
 },
 "nbformat": 4,
 "nbformat_minor": 2
}
