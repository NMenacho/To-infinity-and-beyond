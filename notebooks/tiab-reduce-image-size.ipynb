{
 "cells": [
  {
   "cell_type": "code",
   "execution_count": 9,
   "metadata": {},
   "outputs": [
    {
     "name": "stdout",
     "output_type": "stream",
     "text": [
      "The original size of Image is:  967.9 KB\n",
      "The size of compressed image is:  103.54 KB\n"
     ]
    }
   ],
   "source": [
    "import PIL\n",
    "from PIL import Image\n",
    "\n",
    "#open the image\n",
    "img_name = '../data/images/frame-irg-001140-3-0052.jpg'\n",
    "with  Image.open(img_name) as my_image:\n",
    "\n",
    "    # the original width and height of the image\n",
    "    image_height = my_image.height\n",
    "    image_width = my_image.width\n",
    "\n",
    "    print(\"The original size of Image is: \", round(len(my_image.fp.read())/1024,2), \"KB\")\n",
    "\n",
    "    #compressed the image\n",
    "    my_image = my_image.resize(\n",
    "        (\n",
    "            int(image_width/2),\n",
    "            int(image_height/2)\n",
    "        ),\n",
    "        Image.Resampling.NEAREST\n",
    "    )\n",
    "\n",
    "    #save the image\n",
    "    my_image.save(img_name+'_small.jpg')\n",
    "\n",
    "    #open the compressed image\n",
    "    with Image.open(img_name+'_small.jpg') as compressed_image:\n",
    "        print(\"The size of compressed image is: \", round(len(compressed_image.fp.read())/1024,2), \"KB\")\n"
   ]
  },
  {
   "cell_type": "code",
   "execution_count": null,
   "metadata": {},
   "outputs": [],
   "source": []
  }
 ],
 "metadata": {
  "kernelspec": {
   "display_name": "Python 3",
   "language": "python",
   "name": "python3"
  },
  "language_info": {
   "codemirror_mode": {
    "name": "ipython",
    "version": 3
   },
   "file_extension": ".py",
   "mimetype": "text/x-python",
   "name": "python",
   "nbconvert_exporter": "python",
   "pygments_lexer": "ipython3",
   "version": "3.10.6"
  }
 },
 "nbformat": 4,
 "nbformat_minor": 2
}
