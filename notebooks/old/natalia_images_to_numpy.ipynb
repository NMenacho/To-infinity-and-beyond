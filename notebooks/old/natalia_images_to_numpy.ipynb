{
 "cells": [
  {
   "cell_type": "code",
   "execution_count": 3,
   "metadata": {},
   "outputs": [
    {
     "name": "stdout",
     "output_type": "stream",
     "text": [
      "/Users/nataliamenacho/code/NMenacho/to_infinity_and_beyond/To-infinity-and-beyond/notebooks\n",
      "CNN_model_first_essay.ipynb      \u001b[1m\u001b[36mold\u001b[m\u001b[m\n",
      "natalia_Scrapping stars.ipynb    sebastien_images_to_numpy.ipynb\n",
      "natalia_get-cropped-images.ipynb test.jpg\n",
      "nicolas_api_scrapping.ipynb\n"
     ]
    }
   ],
   "source": [
    "!pwd\n",
    "!ls"
   ]
  },
  {
   "cell_type": "code",
   "execution_count": 4,
   "metadata": {},
   "outputs": [
    {
     "name": "stdout",
     "output_type": "stream",
     "text": [
      "(128, 128, 3)\n"
     ]
    }
   ],
   "source": [
    "from PIL import Image\n",
    "import numpy as np\n",
    "\n",
    "image_name = \"../data/images_cropped_sample/1237651538722554076_233.547039421357_57.8613990707295_GALAXY_0.3526742.jpg\"\n",
    "#image_name = \"test.jpeg\"\n",
    "img= Image.open(image_name)\n",
    "np_img = np.array(img)\n",
    "\n",
    "print(np_img.shape)"
   ]
  },
  {
   "cell_type": "code",
   "execution_count": 18,
   "metadata": {},
   "outputs": [
    {
     "data": {
      "text/plain": [
       "True"
      ]
     },
     "execution_count": 18,
     "metadata": {},
     "output_type": "execute_result"
    }
   ],
   "source": [
    "import os\n",
    "os.path.isfile(os.path.join(\"../data/images_cropped_sample\", '1237657589785624813_181.407635532135_54.4684316973986_STAR_1.69534.jpg'))"
   ]
  },
  {
   "cell_type": "code",
   "execution_count": 23,
   "metadata": {},
   "outputs": [
    {
     "data": {
      "text/plain": [
       "(44, 128, 128, 3)"
      ]
     },
     "execution_count": 23,
     "metadata": {},
     "output_type": "execute_result"
    }
   ],
   "source": [
    "import os\n",
    "from os import listdir\n",
    "from os.path import isfile, join\n",
    "\n",
    "image_dir = \"../data/images_cropped_sample\"\n",
    "image_files = [f for f in listdir(image_dir) if (isfile(join(image_dir, f)) and f.endswith('.jpg'))]\n",
    "#image_files = [f for f in listdir(image_dir) if (f.endswith('.jpg') and isfile(join(image_dir, f)))]\n",
    "\n",
    "\n",
    "X0 = []\n",
    "\n",
    "for image_file in image_files:\n",
    "    image_info = image_file.replace('.jpg', '').split(\"_\")\n",
    "    image_data = np.array(Image.open(os.path.join(image_dir,image_file)))\n",
    "    #print(image_info)\n",
    "    #print(image_data.shape)\n",
    "    X0.append(image_data)\n",
    "\n",
    "X_data = np.array(X0)\n",
    "X_data.shape\n"
   ]
  },
  {
   "cell_type": "code",
   "execution_count": 11,
   "metadata": {},
   "outputs": [
    {
     "ename": "IndexError",
     "evalue": "index 0 is out of bounds for axis 0 with size 0",
     "output_type": "error",
     "traceback": [
      "\u001b[0;31m---------------------------------------------------------------------------\u001b[0m",
      "\u001b[0;31mIndexError\u001b[0m                                Traceback (most recent call last)",
      "Cell \u001b[0;32mIn[11], line 2\u001b[0m\n\u001b[1;32m      1\u001b[0m \u001b[38;5;28;01mimport\u001b[39;00m \u001b[38;5;21;01mmatplotlib\u001b[39;00m\u001b[38;5;21;01m.\u001b[39;00m\u001b[38;5;21;01mpyplot\u001b[39;00m \u001b[38;5;28;01mas\u001b[39;00m \u001b[38;5;21;01mplt\u001b[39;00m\n\u001b[0;32m----> 2\u001b[0m plt\u001b[38;5;241m.\u001b[39mimshow(\u001b[43mX_data\u001b[49m\u001b[43m[\u001b[49m\u001b[38;5;241;43m0\u001b[39;49m\u001b[43m]\u001b[49m)\n",
      "\u001b[0;31mIndexError\u001b[0m: index 0 is out of bounds for axis 0 with size 0"
     ]
    }
   ],
   "source": [
    "import matplotlib.pyplot as plt\n",
    "plt.imshow(X_data[0])"
   ]
  },
  {
   "cell_type": "code",
   "execution_count": null,
   "metadata": {},
   "outputs": [],
   "source": []
  }
 ],
 "metadata": {
  "kernelspec": {
   "display_name": "Python 3",
   "language": "python",
   "name": "python3"
  },
  "language_info": {
   "codemirror_mode": {
    "name": "ipython",
    "version": 3
   },
   "file_extension": ".py",
   "mimetype": "text/x-python",
   "name": "python",
   "nbconvert_exporter": "python",
   "pygments_lexer": "ipython3",
   "version": "3.10.6"
  }
 },
 "nbformat": 4,
 "nbformat_minor": 2
}
