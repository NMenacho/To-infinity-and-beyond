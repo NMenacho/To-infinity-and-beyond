{
 "cells": [
  {
   "cell_type": "markdown",
   "metadata": {},
   "source": [
    "## Recuperation des images cropped"
   ]
  },
  {
   "cell_type": "code",
   "execution_count": 150,
   "metadata": {},
   "outputs": [],
   "source": [
    "import pandas as pd\n",
    "import requests as req\n",
    "import os.path\n",
    "import numpy as np\n",
    "from datetime import datetime"
   ]
  },
  {
   "cell_type": "markdown",
   "metadata": {},
   "source": [
    "## Constantes"
   ]
  },
  {
   "cell_type": "code",
   "execution_count": null,
   "metadata": {},
   "outputs": [],
   "source": [
    "DIR_PATH = os.path.abspath(os.path.join(path, os.pardir))\n",
    "DATA_PATH = os.path.abspath(os.path.join(path, os.pardir, 'data'))\n",
    "DATA_IMAGES_CROP = os.path.abspath(os.path.join(path, os.pardir, 'data','images_cropped'))\n",
    "LOGS_IMAGES = os.path.abspath(os.path.join(path, os.pardir, 'logs'))"
   ]
  },
  {
   "cell_type": "code",
   "execution_count": 257,
   "metadata": {},
   "outputs": [],
   "source": [
    "df =pd.read_csv('../data/stars_classification_with_images.csv')\n",
    "\n",
    "df = df[['obj_ID','alpha','delta','spec_obj_ID', 'class']]\n",
    "df.drop_duplicates(inplace=True)\n",
    "df['spec_obj_ID'] = df['spec_obj_ID'].apply(int)\n"
   ]
  },
  {
   "cell_type": "code",
   "execution_count": 259,
   "metadata": {},
   "outputs": [
    {
     "data": {
      "text/plain": [
       "99999"
      ]
     },
     "execution_count": 259,
     "metadata": {},
     "output_type": "execute_result"
    }
   ],
   "source": [
    "df['spec_obj_ID'].nunique()"
   ]
  },
  {
   "cell_type": "code",
   "execution_count": 252,
   "metadata": {},
   "outputs": [
    {
     "data": {
      "text/plain": [
       "99999"
      ]
     },
     "execution_count": 252,
     "metadata": {},
     "output_type": "execute_result"
    }
   ],
   "source": [
    "df.dropna()\n",
    "df_test = df.copy()\n",
    "df_test['spec_obj_ID'].apply(int).unique()"
   ]
  },
  {
   "cell_type": "code",
   "execution_count": 299,
   "metadata": {},
   "outputs": [],
   "source": [
    "def classification_data(df_spec_id, df_class):\n",
    "    dict = {'spec_obj_ID':df_spec_id, 'class': df_class, 'filename':f'{df_spec_id}.jpeg'}\n",
    "    return dict"
   ]
  },
  {
   "cell_type": "code",
   "execution_count": 78,
   "metadata": {},
   "outputs": [],
   "source": [
    "images_location = '/images_cropped'\n"
   ]
  },
  {
   "cell_type": "code",
   "execution_count": 300,
   "metadata": {},
   "outputs": [],
   "source": [
    "def append_to_log(owner, text):\n",
    "    timestamp = datetime.today().strftime('%Y-%m-%d')\n",
    "    log_file = LOGS_IMAGES + f'/{owner}-' + timestamp + '.log'\n",
    "    if not os.path.exists(LOGS_IMAGES):\n",
    "        os.makedirs(LOGS_IMAGES)\n",
    "        with open(log_file, \"a\") as myfile:\n",
    "            myfile.write(text+'\\n')\n",
    "    else:\n",
    "        with open(log_file, \"a\") as myfile:\n",
    "            myfile.write(text+'\\n')"
   ]
  },
  {
   "cell_type": "code",
   "execution_count": 301,
   "metadata": {},
   "outputs": [],
   "source": [
    "def cropped_image(alpha, delta, spec_obj_ID):\n",
    "    append_to_log('sarah',f'processed spec_obj_ID {spec_obj_ID}')\n",
    "    image_path = f'{DATA_IMAGES_CROP}/{spec_obj_ID}.jpeg'\n",
    "\n",
    "    if not os.path.exists(DATA_IMAGES_CROP):\n",
    "        os.makedirs(DATA_IMAGES_CROP)\n",
    "    else :\n",
    "        if not os.path.exists(image_path):\n",
    "            baseurl = 'https://skyserver.sdss.org/dr18/SkyServerWS/ImgCutout/getjpeg?TaskName=Skyserver.Chart.Navi&scale=0.099031675&radius=0.2&format=json'\n",
    "            resp = req.get(baseurl, params={'ra': alpha, 'dec': delta})\n",
    "            f = open(image_path,'wb')\n",
    "            f.write(resp.content)\n",
    "            f.close()\n",
    "            append_to_log('sarah',f\"downloaded {spec_obj_ID}\")\n",
    "        else:\n",
    "            append_to_log('sarah',f'{spec_obj_ID}.jpeg already exists')\n",
    "    return f'{spec_obj_ID}'"
   ]
  },
  {
   "cell_type": "code",
   "execution_count": null,
   "metadata": {},
   "outputs": [],
   "source": []
  },
  {
   "cell_type": "code",
   "execution_count": 302,
   "metadata": {},
   "outputs": [],
   "source": [
    "df_out = pd.DataFrame(columns=['spec_obj_ID', 'class', 'filename'])\n",
    "for i in range(0,6):\n",
    "    cropped_image(df.loc[i]['alpha'],df.loc[i]['delta'],df.loc[i]['spec_obj_ID'])\n",
    "    df_out = pd.concat([df_out, pd.DataFrame([classification_data(df.loc[i]['spec_obj_ID'], df.loc[i]['class'])])], ignore_index=True)"
   ]
  },
  {
   "cell_type": "code",
   "execution_count": 303,
   "metadata": {},
   "outputs": [
    {
     "data": {
      "text/html": [
       "<div>\n",
       "<style scoped>\n",
       "    .dataframe tbody tr th:only-of-type {\n",
       "        vertical-align: middle;\n",
       "    }\n",
       "\n",
       "    .dataframe tbody tr th {\n",
       "        vertical-align: top;\n",
       "    }\n",
       "\n",
       "    .dataframe thead th {\n",
       "        text-align: right;\n",
       "    }\n",
       "</style>\n",
       "<table border=\"1\" class=\"dataframe\">\n",
       "  <thead>\n",
       "    <tr style=\"text-align: right;\">\n",
       "      <th></th>\n",
       "      <th>spec_obj_ID</th>\n",
       "      <th>class</th>\n",
       "      <th>filename</th>\n",
       "    </tr>\n",
       "  </thead>\n",
       "  <tbody>\n",
       "    <tr>\n",
       "      <th>0</th>\n",
       "      <td>5658976714552007680</td>\n",
       "      <td>QSO</td>\n",
       "      <td>5658976714552007680.jpeg</td>\n",
       "    </tr>\n",
       "    <tr>\n",
       "      <th>1</th>\n",
       "      <td>12462617271914000384</td>\n",
       "      <td>QSO</td>\n",
       "      <td>12462617271914000384.jpeg</td>\n",
       "    </tr>\n",
       "    <tr>\n",
       "      <th>2</th>\n",
       "      <td>6961443351364392960</td>\n",
       "      <td>GALAXY</td>\n",
       "      <td>6961443351364392960.jpeg</td>\n",
       "    </tr>\n",
       "    <tr>\n",
       "      <th>3</th>\n",
       "      <td>7459284627188110336</td>\n",
       "      <td>GALAXY</td>\n",
       "      <td>7459284627188110336.jpeg</td>\n",
       "    </tr>\n",
       "    <tr>\n",
       "      <th>4</th>\n",
       "      <td>2751763212482406400</td>\n",
       "      <td>STAR</td>\n",
       "      <td>2751763212482406400.jpeg</td>\n",
       "    </tr>\n",
       "    <tr>\n",
       "      <th>5</th>\n",
       "      <td>5652161941432719360</td>\n",
       "      <td>GALAXY</td>\n",
       "      <td>5652161941432719360.jpeg</td>\n",
       "    </tr>\n",
       "  </tbody>\n",
       "</table>\n",
       "</div>"
      ],
      "text/plain": [
       "            spec_obj_ID   class                   filename\n",
       "0   5658976714552007680     QSO   5658976714552007680.jpeg\n",
       "1  12462617271914000384     QSO  12462617271914000384.jpeg\n",
       "2   6961443351364392960  GALAXY   6961443351364392960.jpeg\n",
       "3   7459284627188110336  GALAXY   7459284627188110336.jpeg\n",
       "4   2751763212482406400    STAR   2751763212482406400.jpeg\n",
       "5   5652161941432719360  GALAXY   5652161941432719360.jpeg"
      ]
     },
     "execution_count": 303,
     "metadata": {},
     "output_type": "execute_result"
    }
   ],
   "source": [
    "df_out"
   ]
  },
  {
   "cell_type": "markdown",
   "metadata": {},
   "source": [
    "## Constantes"
   ]
  },
  {
   "cell_type": "code",
   "execution_count": 84,
   "metadata": {},
   "outputs": [
    {
     "name": "stdout",
     "output_type": "stream",
     "text": [
      "not exists\n"
     ]
    }
   ],
   "source": [
    "if not os.path.exists(DATA_IMAGES_CROP):\n",
    "    print(\"not exists\")\n",
    "    os.makedirs(DATA_IMAGES_CROP)\n",
    "else:\n",
    "    print(\"exis\")"
   ]
  },
  {
   "cell_type": "code",
   "execution_count": 93,
   "metadata": {},
   "outputs": [],
   "source": [
    "def missing_images_url(path):\n",
    "    pass"
   ]
  },
  {
   "cell_type": "code",
   "execution_count": 92,
   "metadata": {},
   "outputs": [],
   "source": [
    "def missing_images(paths):\n",
    "    pass"
   ]
  },
  {
   "cell_type": "code",
   "execution_count": 234,
   "metadata": {},
   "outputs": [
    {
     "name": "stdout",
     "output_type": "stream",
     "text": [
      "Files and directories in ' /Users/sarahakamiezan/code/NMenacho/To-infinity-and-beyond/data/images_cropped ':\n",
      "['6.961443351364393e+18', '2.7517632124824064e+18', '7.45928462718811e+18', '1.2462617271914e+19', '5.652161941432719e+18']\n",
      "5\n"
     ]
    }
   ],
   "source": [
    "\n",
    "# Get the list of all files and directories\n",
    "\n",
    "dir_img_crop_cnt = [x.replace(\".jpeg\",'') for x in os.listdir(DATA_IMAGES_CROP)]\n",
    "print(\"Files and directories in '\", DATA_IMAGES_CROP, \"':\")\n",
    "# prints all files\n",
    "print(dir_img_crop_cnt)\n",
    "print(len(dir_img_crop_cnt))"
   ]
  },
  {
   "cell_type": "code",
   "execution_count": 217,
   "metadata": {},
   "outputs": [],
   "source": [
    "#len(list(df['obj_ID'])), len(set(list(df['obj_ID'])))"
   ]
  },
  {
   "cell_type": "code",
   "execution_count": null,
   "metadata": {},
   "outputs": [],
   "source": []
  }
 ],
 "metadata": {
  "kernelspec": {
   "display_name": "to_infinity_and_beyond",
   "language": "python",
   "name": "python3"
  },
  "language_info": {
   "codemirror_mode": {
    "name": "ipython",
    "version": 3
   },
   "file_extension": ".py",
   "mimetype": "text/x-python",
   "name": "python",
   "nbconvert_exporter": "python",
   "pygments_lexer": "ipython3",
   "version": "3.10.6"
  }
 },
 "nbformat": 4,
 "nbformat_minor": 2
}
